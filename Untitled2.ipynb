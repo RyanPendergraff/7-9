{
 "cells": [
  {
   "cell_type": "code",
   "execution_count": 8,
   "id": "4f87cd06-7b50-4249-9acb-aa8b8a7ff7cf",
   "metadata": {},
   "outputs": [
    {
     "name": "stdout",
     "output_type": "stream",
     "text": [
      "['MOZARELLA', 'Cinderella']\n"
     ]
    }
   ],
   "source": [
    "things = [\"MOZARELLA\", \"Cinderella\"]\n",
    "print (things)"
   ]
  },
  {
   "cell_type": "code",
   "execution_count": null,
   "id": "15ff0b2c-629d-44f4-8f85-7ee47ffddba8",
   "metadata": {},
   "outputs": [],
   "source": [
    "def good():\n",
    "    return ['Harry', 'Ron', 'Hermione']"
   ]
  },
  {
   "cell_type": "code",
   "execution_count": 10,
   "id": "98ad0270-57f9-46a1-b8c2-81dbc3616175",
   "metadata": {},
   "outputs": [
    {
     "name": "stdout",
     "output_type": "stream",
     "text": [
      "The third odd number is: 5\n"
     ]
    }
   ],
   "source": [
    "def get_odds():\n",
    "    for number in range(10):\n",
    "        if number % 2 != 0:\n",
    "            yield number\n",
    "odds_generator = get_odds()\n",
    "for i, value in enumerate(odds_generator, 1):\n",
    "    if i == 3:\n",
    "        print(f\"The third odd number is: {value}\")\n",
    "        break"
   ]
  }
 ],
 "metadata": {
  "kernelspec": {
   "display_name": "Python 3 (ipykernel)",
   "language": "python",
   "name": "python3"
  },
  "language_info": {
   "codemirror_mode": {
    "name": "ipython",
    "version": 3
   },
   "file_extension": ".py",
   "mimetype": "text/x-python",
   "name": "python",
   "nbconvert_exporter": "python",
   "pygments_lexer": "ipython3",
   "version": "3.12.4"
  }
 },
 "nbformat": 4,
 "nbformat_minor": 5
}
